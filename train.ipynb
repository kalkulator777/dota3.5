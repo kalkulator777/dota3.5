{
 "cells": [
  {
   "cell_type": "markdown",
   "metadata": {},
   "source": [
    "Импортируем библиотеки, грухим датасеты"
   ]
  },
  {
   "cell_type": "code",
   "execution_count": null,
   "metadata": {},
   "outputs": [],
   "source": [
    "import pandas as pd\n",
    "\n",
    "train_df = pd.read_csv('data/train_filtered.csv', low_memory=False)"
   ]
  },
  {
   "cell_type": "markdown",
   "metadata": {},
   "source": [
    "Начинаем строить модель"
   ]
  },
  {
   "cell_type": "code",
   "execution_count": null,
   "metadata": {},
   "outputs": [],
   "source": [
    "\n",
    "\n",
    "\n",
    "X_train = df_train_base.drop('target', axis=1)\n",
    "y_train = df_train_base['target']\n",
    "\n",
    "groups = df_train_base['client_id']\n",
    "\n",
    "gss = GroupShuffleSplit(n_splits=1, test_size=0.2, random_state=42)\n",
    "\n",
    "for train_idx, test_idx in gss.split(X_train, y_train, groups=groups):\n",
    "    X_train, X_test = X_train.iloc[train_idx], X_train.iloc[test_idx]\n",
    "    y_train, y_test = y_train.iloc[train_idx], y_train.iloc[test_idx]\n",
    "\n",
    "assert X_train['client_id'].isin(X_test['client_id']).sum() == 0\n",
    "\n",
    "X_valid = df_valid_base.drop('target', axis=1)\n",
    "y_valid = df_valid_base['target']"
   ]
  }
 ],
 "metadata": {
  "kernelspec": {
   "display_name": "Python 3",
   "language": "python",
   "name": "python3"
  },
  "language_info": {
   "name": "python",
   "version": "3.9.13"
  }
 },
 "nbformat": 4,
 "nbformat_minor": 2
}
