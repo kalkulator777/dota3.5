{
 "cells": [
  {
   "cell_type": "markdown",
   "metadata": {},
   "source": [
    "Импортируем библиотеки, грузим датасеты"
   ]
  },
  {
   "cell_type": "code",
   "execution_count": 43,
   "metadata": {},
   "outputs": [],
   "source": [
    "# Импортируем библиотеки\n",
    "\n",
    "import pandas as pd \n",
    "import numpy as np\n",
    "import matplotlib.pyplot as plt\n",
    "import seaborn as sb\n",
    "\n",
    "from sklearn.model_selection import train_test_split\n",
    "from sklearn.ensemble import RandomForestClassifier\n",
    "from sklearn.metrics import roc_auc_score, accuracy_score\n",
    "\n",
    "# Грузим датасеты\n",
    "\n",
    "df_train = pd.read_csv('data/train_processed.csv', low_memory=False)\n",
    "df_valid = pd.read_csv('data/valid_processed.csv', low_memory=False)"
   ]
  },
  {
   "cell_type": "markdown",
   "metadata": {},
   "source": [
    "Baseline модель"
   ]
  },
  {
   "cell_type": "code",
   "execution_count": 45,
   "metadata": {},
   "outputs": [
    {
     "name": "stdout",
     "output_type": "stream",
     "text": [
      "ROC-AUC: 0.9715\n",
      "Accuracy: 0.9851\n"
     ]
    }
   ],
   "source": [
    "# Разделяем датасет на таргет и признаки\n",
    "X = df_train.drop(columns=['target', 'report_date', 'col1454'])\n",
    "y = df_train['target']\n",
    "\n",
    "X_valid = df_valid.drop(columns=['target', 'report_date', 'col1454'])\n",
    "\n",
    "# Разделение на обучающую и тестовую выборки\n",
    "X_train, X_test, y_train, y_test = train_test_split(X, y, test_size=0.2, random_state=42)\n",
    "\n",
    "# Модель\n",
    "baseline_model = RandomForestClassifier(n_estimators=100, random_state=42)\n",
    "\n",
    "# Обучаем модель\n",
    "baseline_model.fit(X_train, y_train)\n",
    "\n",
    "# Предсказание вероятностей\n",
    "y_pred_proba = baseline_model.predict_proba(X_test)[:, 1]\n",
    "\n",
    "# Метрика модели на train датасете\n",
    "roc_auc = roc_auc_score(y_test, y_pred_proba)\n",
    "y_pred = baseline_model.predict(X_test)\n",
    "accuracy = accuracy_score(y_test, y_pred)\n",
    "\n",
    "print(f\"ROC-AUC: {roc_auc:.4f}\")\n",
    "print(f\"Accuracy: {accuracy:.4f}\")"
   ]
  },
  {
   "cell_type": "code",
   "execution_count": 46,
   "metadata": {},
   "outputs": [],
   "source": [
    "y_test_pred_proba = baseline_model.predict_proba(X_valid)[:, 1]\n",
    "\n",
    "valid_accuracy = accuracy_score(y_test, y_pred)"
   ]
  }
 ],
 "metadata": {
  "kernelspec": {
   "display_name": ".venv",
   "language": "python",
   "name": "python3"
  },
  "language_info": {
   "codemirror_mode": {
    "name": "ipython",
    "version": 3
   },
   "file_extension": ".py",
   "mimetype": "text/x-python",
   "name": "python",
   "nbconvert_exporter": "python",
   "pygments_lexer": "ipython3",
   "version": "3.13.1"
  }
 },
 "nbformat": 4,
 "nbformat_minor": 2
}
